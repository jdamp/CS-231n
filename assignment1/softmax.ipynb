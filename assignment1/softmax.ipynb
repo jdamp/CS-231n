{
 "cells": [
  {
   "cell_type": "markdown",
   "metadata": {},
   "source": [
    "# Softmax exercise\n",
    "\n",
    "*Complete and hand in this completed worksheet (including its outputs and any supporting code outside of the worksheet) with your assignment submission. For more details see the [assignments page](http://vision.stanford.edu/teaching/cs231n/assignments.html) on the course website.*\n",
    "\n",
    "This exercise is analogous to the SVM exercise. You will:\n",
    "\n",
    "- implement a fully-vectorized **loss function** for the Softmax classifier\n",
    "- implement the fully-vectorized expression for its **analytic gradient**\n",
    "- **check your implementation** with numerical gradient\n",
    "- use a validation set to **tune the learning rate and regularization** strength\n",
    "- **optimize** the loss function with **SGD**\n",
    "- **visualize** the final learned weights\n"
   ]
  },
  {
   "cell_type": "code",
   "execution_count": 1,
   "metadata": {},
   "outputs": [],
   "source": [
    "from __future__ import print_function\n",
    "import random\n",
    "import numpy as np\n",
    "from cs231n.data_utils import load_CIFAR10\n",
    "import matplotlib.pyplot as plt\n",
    "\n",
    "\n",
    "\n",
    "%matplotlib inline\n",
    "plt.rcParams['figure.figsize'] = (10.0, 8.0) # set default size of plots\n",
    "plt.rcParams['image.interpolation'] = 'nearest'\n",
    "plt.rcParams['image.cmap'] = 'gray'\n",
    "\n",
    "# for auto-reloading extenrnal modules\n",
    "# see http://stackoverflow.com/questions/1907993/autoreload-of-modules-in-ipython\n",
    "%load_ext autoreload\n",
    "%autoreload 2"
   ]
  },
  {
   "cell_type": "code",
   "execution_count": 2,
   "metadata": {},
   "outputs": [
    {
     "name": "stdout",
     "output_type": "stream",
     "text": [
      "Train data shape:  (49000, 3073)\n",
      "Train labels shape:  (49000,)\n",
      "Validation data shape:  (1000, 3073)\n",
      "Validation labels shape:  (1000,)\n",
      "Test data shape:  (1000, 3073)\n",
      "Test labels shape:  (1000,)\n",
      "dev data shape:  (500, 3073)\n",
      "dev labels shape:  (500,)\n"
     ]
    }
   ],
   "source": [
    "def get_CIFAR10_data(num_training=49000, num_validation=1000, num_test=1000, num_dev=500):\n",
    "    \"\"\"\n",
    "    Load the CIFAR-10 dataset from disk and perform preprocessing to prepare\n",
    "    it for the linear classifier. These are the same steps as we used for the\n",
    "    SVM, but condensed to a single function.  \n",
    "    \"\"\"\n",
    "    # Load the raw CIFAR-10 data\n",
    "    cifar10_dir = 'cs231n/datasets/cifar-10-batches-py'\n",
    "    \n",
    "    X_train, y_train, X_test, y_test = load_CIFAR10(cifar10_dir)\n",
    "    \n",
    "    # subsample the data\n",
    "    mask = list(range(num_training, num_training + num_validation))\n",
    "    X_val = X_train[mask]\n",
    "    y_val = y_train[mask]\n",
    "    mask = list(range(num_training))\n",
    "    X_train = X_train[mask]\n",
    "    y_train = y_train[mask]\n",
    "    mask = list(range(num_test))\n",
    "    X_test = X_test[mask]\n",
    "    y_test = y_test[mask]\n",
    "    mask = np.random.choice(num_training, num_dev, replace=False)\n",
    "    X_dev = X_train[mask]\n",
    "    y_dev = y_train[mask]\n",
    "    \n",
    "    # Preprocessing: reshape the image data into rows\n",
    "    X_train = np.reshape(X_train, (X_train.shape[0], -1))\n",
    "    X_val = np.reshape(X_val, (X_val.shape[0], -1))\n",
    "    X_test = np.reshape(X_test, (X_test.shape[0], -1))\n",
    "    X_dev = np.reshape(X_dev, (X_dev.shape[0], -1))\n",
    "    \n",
    "    # Normalize the data: subtract the mean image\n",
    "    mean_image = np.mean(X_train, axis = 0)\n",
    "    X_train -= mean_image\n",
    "    X_val -= mean_image\n",
    "    X_test -= mean_image\n",
    "    X_dev -= mean_image\n",
    "    \n",
    "    # add bias dimension and transform into columns\n",
    "    X_train = np.hstack([X_train, np.ones((X_train.shape[0], 1))])\n",
    "    X_val = np.hstack([X_val, np.ones((X_val.shape[0], 1))])\n",
    "    X_test = np.hstack([X_test, np.ones((X_test.shape[0], 1))])\n",
    "    X_dev = np.hstack([X_dev, np.ones((X_dev.shape[0], 1))])\n",
    "    \n",
    "    return X_train, y_train, X_val, y_val, X_test, y_test, X_dev, y_dev\n",
    "\n",
    "\n",
    "# Cleaning up variables to prevent loading data multiple times (which may cause memory issue)\n",
    "try:\n",
    "   del X_train, y_train\n",
    "   del X_test, y_test\n",
    "   print('Clear previously loaded data.')\n",
    "except:\n",
    "   pass\n",
    "\n",
    "# Invoke the above function to get our data.\n",
    "X_train, y_train, X_val, y_val, X_test, y_test, X_dev, y_dev = get_CIFAR10_data()\n",
    "print('Train data shape: ', X_train.shape)\n",
    "print('Train labels shape: ', y_train.shape)\n",
    "print('Validation data shape: ', X_val.shape)\n",
    "print('Validation labels shape: ', y_val.shape)\n",
    "print('Test data shape: ', X_test.shape)\n",
    "print('Test labels shape: ', y_test.shape)\n",
    "print('dev data shape: ', X_dev.shape)\n",
    "print('dev labels shape: ', y_dev.shape)"
   ]
  },
  {
   "cell_type": "markdown",
   "metadata": {},
   "source": [
    "## Softmax Classifier\n",
    "\n",
    "Your code for this section will all be written inside **cs231n/classifiers/softmax.py**. \n"
   ]
  },
  {
   "cell_type": "code",
   "execution_count": 32,
   "metadata": {},
   "outputs": [
    {
     "name": "stdout",
     "output_type": "stream",
     "text": [
      "loss: 2.368848\n",
      "sanity check: 2.302585\n"
     ]
    }
   ],
   "source": [
    "# First implement the naive softmax loss function with nested loops.\n",
    "# Open the file cs231n/classifiers/softmax.py and implement the\n",
    "# softmax_loss_naive function.\n",
    "\n",
    "from cs231n.classifiers.softmax import softmax_loss_naive\n",
    "import time\n",
    "\n",
    "# Generate a random softmax weight matrix and use it to compute the loss.\n",
    "W = np.random.randn(3073, 10) * 0.0001\n",
    "loss, grad = softmax_loss_naive(W, X_dev, y_dev, 0.0)\n",
    "\n",
    "# As a rough sanity check, our loss should be something close to -log(0.1).\n",
    "print('loss: %f' % loss)\n",
    "print('sanity check: %f' % (-np.log(0.1)))"
   ]
  },
  {
   "cell_type": "markdown",
   "metadata": {},
   "source": [
    "## Inline Question 1:\n",
    "Why do we expect our loss to be close to -log(0.1)? Explain briefly.**\n",
    "\n",
    "**Your answer:** There are 10 different classes. For randomly chosen weights, I would expect all class scores to be approximately equal, resulting in\n",
    "$$\\frac{e^{f_{y_i}}}{\\sum_j e^{f_{j}}}\\approx \\frac{1}{n_{\\mathrm{classes}}}=0.1\\Rightarrow -\\log\\left(\\frac{e^{f_{y_i}}}{\\sum_j e^{f_{j}}}\\right)\\approx-\\log{0.1}$$\n"
   ]
  },
  {
   "cell_type": "code",
   "execution_count": 95,
   "metadata": {},
   "outputs": [
    {
     "name": "stdout",
     "output_type": "stream",
     "text": [
      "numerical: 4.447335 analytic: 4.447335, relative error: 1.491986e-08\n",
      "numerical: 0.068400 analytic: 0.068400, relative error: 2.546628e-07\n",
      "numerical: -0.761366 analytic: -0.761366, relative error: 3.444288e-08\n",
      "numerical: -1.590048 analytic: -1.590048, relative error: 1.034558e-08\n",
      "numerical: 0.362864 analytic: 0.362864, relative error: 1.941597e-07\n",
      "numerical: -0.286674 analytic: -0.286674, relative error: 2.055608e-07\n",
      "numerical: -1.830283 analytic: -1.830283, relative error: 9.248508e-09\n",
      "numerical: 2.852677 analytic: 2.852677, relative error: 1.491581e-08\n",
      "numerical: 1.191835 analytic: 1.191835, relative error: 6.796394e-09\n",
      "numerical: 3.437456 analytic: 3.437456, relative error: 2.816552e-09\n",
      "numerical: 0.461729 analytic: 0.461729, relative error: 7.094821e-08\n",
      "numerical: 0.837151 analytic: 0.837151, relative error: 7.285435e-08\n",
      "numerical: -0.853508 analytic: -0.853508, relative error: 2.101347e-08\n",
      "numerical: 0.674988 analytic: 0.674988, relative error: 6.183439e-08\n",
      "numerical: 5.117372 analytic: 5.117372, relative error: 2.174068e-10\n",
      "numerical: -0.398616 analytic: -0.398616, relative error: 7.171755e-08\n",
      "numerical: -4.157343 analytic: -4.157343, relative error: 7.766454e-09\n",
      "numerical: 1.695400 analytic: 1.695400, relative error: 1.396700e-09\n",
      "numerical: -0.375799 analytic: -0.375799, relative error: 2.083927e-08\n",
      "numerical: 0.464444 analytic: 0.464444, relative error: 3.073131e-08\n"
     ]
    }
   ],
   "source": [
    "# Complete the implementation of softmax_loss_naive and implement a (naive)\n",
    "# version of the gradient that uses nested loops.\n",
    "loss, grad = softmax_loss_naive(W, X_dev, y_dev, 0.0)\n",
    "\n",
    "# As we did for the SVM, use numeric gradient checking as a debugging tool.\n",
    "# The numeric gradient should be close to the analytic gradient.\n",
    "from cs231n.gradient_check import grad_check_sparse\n",
    "f = lambda w: softmax_loss_naive(w, X_dev, y_dev, 0.0)[0]\n",
    "grad_numerical = grad_check_sparse(f, W, grad, 10)\n",
    "\n",
    "# similar to SVM case, do another gradient check with regularization\n",
    "loss, grad = softmax_loss_naive(W, X_dev, y_dev, 5e1)\n",
    "f = lambda w: softmax_loss_naive(w, X_dev, y_dev, 5e1)[0]\n",
    "grad_numerical = grad_check_sparse(f, W, grad, 10)"
   ]
  },
  {
   "cell_type": "code",
   "execution_count": 98,
   "metadata": {},
   "outputs": [
    {
     "name": "stdout",
     "output_type": "stream",
     "text": [
      "naive loss: 2.368751e+00 computed in 0.078060s\n",
      "vectorized loss: 2.368751e+00 computed in 0.004220s\n",
      "Loss difference: 0.000000\n",
      "Gradient difference: 0.000000\n"
     ]
    }
   ],
   "source": [
    "# Now that we have a naive implementation of the softmax loss function and its gradient,\n",
    "# implement a vectorized version in softmax_loss_vectorized.\n",
    "# The two versions should compute the same results, but the vectorized version should be\n",
    "# much faster.\n",
    "tic = time.time()\n",
    "loss_naive, grad_naive = softmax_loss_naive(W, X_dev, y_dev, 0.000005)\n",
    "toc = time.time()\n",
    "print('naive loss: %e computed in %fs' % (loss_naive, toc - tic))\n",
    "\n",
    "from cs231n.classifiers.softmax import softmax_loss_vectorized\n",
    "tic = time.time()\n",
    "loss_vectorized, grad_vectorized = softmax_loss_vectorized(W, X_dev, y_dev, 0.000005)\n",
    "toc = time.time()\n",
    "print('vectorized loss: %e computed in %fs' % (loss_vectorized, toc - tic))\n",
    "\n",
    "# As we did for the SVM, we use the Frobenius norm to compare the two versions\n",
    "# of the gradient.\n",
    "grad_difference = np.linalg.norm(grad_naive - grad_vectorized, ord='fro')\n",
    "print('Loss difference: %f' % np.abs(loss_naive - loss_vectorized))\n",
    "print('Gradient difference: %f' % grad_difference)"
   ]
  },
  {
   "cell_type": "code",
   "execution_count": 102,
   "metadata": {},
   "outputs": [
    {
     "name": "stdout",
     "output_type": "stream",
     "text": [
      "iteration 0 / 500: loss 264.925847\n",
      "iteration 100 / 500: loss 28.070875\n",
      "iteration 200 / 500: loss 4.610673\n",
      "iteration 300 / 500: loss 2.315249\n",
      "iteration 400 / 500: loss 2.051700\n",
      "iteration 0 / 500: loss 486.595485\n",
      "iteration 100 / 500: loss 4.686418\n",
      "iteration 200 / 500: loss 2.092119\n",
      "iteration 300 / 500: loss 2.059716\n",
      "iteration 400 / 500: loss 2.065917\n",
      "iteration 0 / 500: loss 708.246666\n",
      "iteration 100 / 500: loss 3.296269\n",
      "iteration 200 / 500: loss 2.112759\n",
      "iteration 300 / 500: loss 2.049217\n",
      "iteration 400 / 500: loss 2.096438\n",
      "iteration 0 / 500: loss 234.782483\n",
      "iteration 100 / 500: loss 50.400959\n",
      "iteration 200 / 500: loss 12.187887\n",
      "iteration 300 / 500: loss 4.122569\n",
      "iteration 400 / 500: loss 2.495024\n",
      "iteration 0 / 500: loss 674.033568\n",
      "iteration 100 / 500: loss 2.286222\n",
      "iteration 200 / 500: loss 2.184015\n",
      "iteration 300 / 500: loss 2.069409\n",
      "iteration 400 / 500: loss 2.119386\n",
      "iteration 0 / 500: loss 227.613607\n",
      "iteration 100 / 500: loss 17.533745\n",
      "iteration 200 / 500: loss 3.095845\n",
      "iteration 300 / 500: loss 2.093256\n",
      "iteration 400 / 500: loss 2.051577\n",
      "iteration 0 / 500: loss 593.403887\n",
      "iteration 100 / 500: loss 2.363101\n",
      "iteration 200 / 500: loss 2.025335\n",
      "iteration 300 / 500: loss 2.105909\n",
      "iteration 400 / 500: loss 2.074017\n",
      "iteration 0 / 500: loss 264.175549\n",
      "iteration 100 / 500: loss 14.403232\n",
      "iteration 200 / 500: loss 2.564610\n",
      "iteration 300 / 500: loss 2.069144\n",
      "iteration 400 / 500: loss 2.088879\n",
      "iteration 0 / 500: loss 760.485246\n",
      "iteration 100 / 500: loss 2.302155\n",
      "iteration 200 / 500: loss 2.095497\n",
      "iteration 300 / 500: loss 2.076595\n",
      "iteration 400 / 500: loss 2.076243\n",
      "iteration 0 / 500: loss 221.470893\n",
      "iteration 100 / 500: loss 130.918695\n",
      "iteration 200 / 500: loss 78.337234\n",
      "iteration 300 / 500: loss 47.270178\n",
      "iteration 400 / 500: loss 28.718507\n",
      "lr 1.839389e-07 reg 1.411041e+04 train accuracy: 0.307143 val accuracy: 0.304000\n",
      "lr 5.130044e-07 reg 1.502459e+04 train accuracy: 0.360959 val accuracy: 0.363000\n",
      "lr 6.701966e-07 reg 1.694996e+04 train accuracy: 0.352265 val accuracy: 0.367000\n",
      "lr 6.909342e-07 reg 4.559925e+04 train accuracy: 0.331449 val accuracy: 0.336000\n",
      "lr 8.209899e-07 reg 3.122306e+04 train accuracy: 0.331204 val accuracy: 0.342000\n",
      "lr 8.213552e-07 reg 4.963793e+04 train accuracy: 0.314204 val accuracy: 0.335000\n",
      "lr 8.918035e-07 reg 1.680831e+04 train accuracy: 0.345653 val accuracy: 0.349000\n",
      "lr 9.175294e-07 reg 1.427653e+04 train accuracy: 0.356163 val accuracy: 0.359000\n",
      "lr 9.285302e-07 reg 4.314881e+04 train accuracy: 0.333367 val accuracy: 0.333000\n",
      "lr 9.646595e-07 reg 3.839524e+04 train accuracy: 0.333347 val accuracy: 0.340000\n",
      "best validation accuracy achieved during cross-validation: 0.367000\n"
     ]
    }
   ],
   "source": [
    "# Use the validation set to tune hyperparameters (regularization strength and\n",
    "# learning rate). You should experiment with different ranges for the learning\n",
    "# rates and regularization strengths; if you are careful you should be able to\n",
    "# get a classification accuracy of over 0.35 on the validation set.\n",
    "from cs231n.classifiers import Softmax\n",
    "results = {}\n",
    "best_val = -1\n",
    "best_softmax = None\n",
    "n_samples = 10\n",
    "learning_rates = np.random.uniform(1e-7, 1e-6, n_samples)\n",
    "regularization_strengths = np.random.uniform(1e4, 5e4, n_samples)\n",
    "\n",
    "################################################################################\n",
    "# TODO:                                                                        #\n",
    "# Use the validation set to set the learning rate and regularization strength. #\n",
    "# This should be identical to the validation that you did for the SVM; save    #\n",
    "# the best trained softmax classifer in best_softmax.                          #\n",
    "################################################################################\n",
    "for rate, reg in zip(learning_rates, regularization_strengths):\n",
    "    sm = Softmax()\n",
    "    loss_hist = sm.train(X_train, y_train, learning_rate=rate, reg=reg,\n",
    "                          num_iters=500, verbose=True)\n",
    "    train_acc = np.mean(sm.predict(X_train) == y_train)\n",
    "    val_acc = np.mean(sm.predict(X_val) == y_val)\n",
    "    results[rate,reg] = (train_acc, val_acc)\n",
    "    if val_acc > best_val:\n",
    "        best_val = val_acc\n",
    "        best_softmax = sm\n",
    "################################################################################\n",
    "#                              END OF YOUR CODE                                #\n",
    "################################################################################\n",
    "    \n",
    "# Print out results.\n",
    "for lr, reg in sorted(results):\n",
    "    train_accuracy, val_accuracy = results[(lr, reg)]\n",
    "    print('lr %e reg %e train accuracy: %f val accuracy: %f' % (\n",
    "                lr, reg, train_accuracy, val_accuracy))\n",
    "    \n",
    "print('best validation accuracy achieved during cross-validation: %f' % best_val)"
   ]
  },
  {
   "cell_type": "code",
   "execution_count": 103,
   "metadata": {},
   "outputs": [
    {
     "name": "stdout",
     "output_type": "stream",
     "text": [
      "softmax on raw pixels final test set accuracy: 0.369000\n"
     ]
    }
   ],
   "source": [
    "# evaluate on test set\n",
    "# Evaluate the best softmax on test set\n",
    "y_test_pred = best_softmax.predict(X_test)\n",
    "test_accuracy = np.mean(y_test == y_test_pred)\n",
    "print('softmax on raw pixels final test set accuracy: %f' % (test_accuracy, ))"
   ]
  },
  {
   "cell_type": "markdown",
   "metadata": {},
   "source": [
    "**Inline Question** - *True or False*\n",
    "\n",
    "It's possible to add a new datapoint to a training set that would leave the SVM loss unchanged, but this is not the case with the Softmax classifier loss.\n",
    "\n",
    "*Your answer*: True\n",
    "\n",
    "*Your explanation*: For the SVM, a data point could be added where the score difference of all wrong classes and the correct class is smaller than the margin $\\Delta$, therefore adding no contribution to the loss.\n",
    "For the Softmax classifier, a zero loss $L_i$ is not possible, therefore the loss will be alway changed by adding data points."
   ]
  },
  {
   "cell_type": "code",
   "execution_count": 104,
   "metadata": {},
   "outputs": [
    {
     "data": {
      "image/png": "[encoded data removed]",
      "text/plain": [
       "<Figure size 432x288 with 10 Axes>"
      ]
     },
     "metadata": {
      "needs_background": "light"
     },
     "output_type": "display_data"
    }
   ],
   "source": [
    "# Visualize the learned weights for each class\n",
    "w = best_softmax.W[:-1,:] # strip out the bias\n",
    "w = w.reshape(32, 32, 3, 10)\n",
    "\n",
    "w_min, w_max = np.min(w), np.max(w)\n",
    "\n",
    "classes = ['plane', 'car', 'bird', 'cat', 'deer', 'dog', 'frog', 'horse', 'ship', 'truck']\n",
    "for i in range(10):\n",
    "    plt.subplot(2, 5, i + 1)\n",
    "    \n",
    "    # Rescale the weights to be between 0 and 255\n",
    "    wimg = 255.0 * (w[:, :, :, i].squeeze() - w_min) / (w_max - w_min)\n",
    "    plt.imshow(wimg.astype('uint8'))\n",
    "    plt.axis('off')\n",
    "    plt.title(classes[i])"
   ]
  },
  {
   "cell_type": "code",
   "execution_count": null,
   "metadata": {},
   "outputs": [],
   "source": []
  }
 ],
 "metadata": {
  "kernelspec": {
   "display_name": "Python 3",
   "language": "python",
   "name": "python3"
  },
  "language_info": {
   "codemirror_mode": {
    "name": "ipython",
    "version": 3
   },
   "file_extension": ".py",
   "mimetype": "text/x-python",
   "name": "python",
   "nbconvert_exporter": "python",
   "pygments_lexer": "ipython3",
   "version": "3.6.8"
  }
 },
 "nbformat": 4,
 "nbformat_minor": 2
}
